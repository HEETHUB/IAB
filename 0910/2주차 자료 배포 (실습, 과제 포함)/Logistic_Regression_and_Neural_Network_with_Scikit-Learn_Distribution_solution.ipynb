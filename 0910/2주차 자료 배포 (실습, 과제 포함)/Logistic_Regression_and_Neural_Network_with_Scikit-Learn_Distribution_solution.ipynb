{
 "cells": [
  {
   "cell_type": "markdown",
   "metadata": {
    "id": "qnKXszGIuTo7"
   },
   "source": [
    "# IoT·인공지능·빅데이터 개론 및 실습 (2021년도, 2학기, M2177.004900_001)\n"
   ]
  },
  {
   "cell_type": "markdown",
   "metadata": {
    "id": "KubnO2egumeN"
   },
   "source": [
    "##9/10 Logistic Regerssion & Neural Network with Scikit-Learn\n",
    "\n",
    "Adapted by Seonwoo Min from the \"An Introduction to Machine Learning with Scikit-learn\" tutorial (http://scikit-learn.org/stable/tutorial/basic/tutorial.html).\n",
    "\n",
    "In this excercise, we will cover:\n",
    "\n",
    "* Loading an example dataset & preprocessing\n",
    "* Logistic regression & neural network models in scikit-learn\n",
    "* Model training & prediction & evaluation\n",
    "* Model save & load\n",
    "* Homework"
   ]
  },
  {
   "cell_type": "markdown",
   "metadata": {
    "id": "6jCc3nd2uTpB"
   },
   "source": [
    "## 1. Loading an example dataset & preprocessing"
   ]
  },
  {
   "cell_type": "code",
   "execution_count": 1,
   "metadata": {
    "id": "oXR0qyJ-uTpC"
   },
   "outputs": [
    {
     "name": "stdout",
     "output_type": "stream",
     "text": [
      "dict_keys(['data', 'target', 'frame', 'feature_names', 'target_names', 'images', 'DESCR'])\n"
     ]
    }
   ],
   "source": [
    "from sklearn.datasets import load_digits\n",
    "data = load_digits()\n",
    "print(data.keys())"
   ]
  },
  {
   "cell_type": "code",
   "execution_count": 13,
   "metadata": {},
   "outputs": [
    {
     "name": "stdout",
     "output_type": "stream",
     "text": [
      ".. _digits_dataset:\n",
      "\n",
      "Optical recognition of handwritten digits dataset\n",
      "--------------------------------------------------\n",
      "\n",
      "**Data Set Characteristics:**\n",
      "\n",
      "    :Number of Instances: 1797\n",
      "    :Number of Attributes: 64\n",
      "    :Attribute Information: 8x8 image of integer pixels in the range 0..16.\n",
      "    :Missing Attribute Values: None\n",
      "    :Creator: E. Alpaydin (alpaydin '@' boun.edu.tr)\n",
      "    :Date: July; 1998\n",
      "\n",
      "This is a copy of the test set of the UCI ML hand-written digits datasets\n",
      "https://archive.ics.uci.edu/ml/datasets/Optical+Recognition+of+Handwritten+Digits\n",
      "\n",
      "The data set contains images of hand-written digits: 10 classes where\n",
      "each class refers to a digit.\n",
      "\n",
      "Preprocessing programs made available by NIST were used to extract\n",
      "normalized bitmaps of handwritten digits from a preprinted form. From a\n",
      "total of 43 people, 30 contributed to the training set and different 13\n",
      "to the test set. 32x32 bitmaps are divided into nonoverlapping blocks of\n",
      "4x4 and the number of on pixels are counted in each block. This generates\n",
      "an input matrix of 8x8 where each element is an integer in the range\n",
      "0..16. This reduces dimensionality and gives invariance to small\n",
      "distortions.\n",
      "\n",
      "For info on NIST preprocessing routines, see M. D. Garris, J. L. Blue, G.\n",
      "T. Candela, D. L. Dimmick, J. Geist, P. J. Grother, S. A. Janet, and C.\n",
      "L. Wilson, NIST Form-Based Handprint Recognition System, NISTIR 5469,\n",
      "1994.\n",
      "\n",
      ".. topic:: References\n",
      "\n",
      "  - C. Kaynak (1995) Methods of Combining Multiple Classifiers and Their\n",
      "    Applications to Handwritten Digit Recognition, MSc Thesis, Institute of\n",
      "    Graduate Studies in Science and Engineering, Bogazici University.\n",
      "  - E. Alpaydin, C. Kaynak (1998) Cascading Classifiers, Kybernetika.\n",
      "  - Ken Tang and Ponnuthurai N. Suganthan and Xi Yao and A. Kai Qin.\n",
      "    Linear dimensionalityreduction using relevance weighted LDA. School of\n",
      "    Electrical and Electronic Engineering Nanyang Technological University.\n",
      "    2005.\n",
      "  - Claudio Gentile. A New Approximate Maximal Margin Classification\n",
      "    Algorithm. NIPS. 2000.\n",
      "\n"
     ]
    }
   ],
   "source": [
    "print(data['DESCR'])"
   ]
  },
  {
   "cell_type": "code",
   "execution_count": 14,
   "metadata": {
    "id": "5FfgysTkuTpC"
   },
   "outputs": [
    {
     "name": "stdout",
     "output_type": "stream",
     "text": [
      "Data:  (1797, 64)\n",
      "Label: (1797,)\n",
      "Class: 0  Number: 178\n",
      "Class: 1  Number: 182\n",
      "Class: 2  Number: 177\n",
      "Class: 3  Number: 183\n",
      "Class: 4  Number: 181\n",
      "Class: 5  Number: 182\n",
      "Class: 6  Number: 181\n",
      "Class: 7  Number: 179\n",
      "Class: 8  Number: 174\n",
      "Class: 9  Number: 180\n"
     ]
    }
   ],
   "source": [
    "# Data shape & statistics\n",
    "print(\"Data: \", data['data'].shape)\n",
    "print(\"Label:\", data['target'].shape)\n",
    "\n",
    "# Print the number of samples for each class\n",
    "import numpy as np\n",
    "#################### To Do #################################\n",
    "for c in range(10):\n",
    "    print('Class:', c,' Number:', np.sum(data['target'] == c) )\n",
    "############################################################"
   ]
  },
  {
   "cell_type": "code",
   "execution_count": 19,
   "metadata": {
    "id": "oG1dHr4CuTpC"
   },
   "outputs": [
    {
     "data": {
      "image/png": "[encoded data removed]",
      "text/plain": [
       "<Figure size 432x288 with 10 Axes>"
      ]
     },
     "metadata": {
      "needs_background": "light"
     },
     "output_type": "display_data"
    }
   ],
   "source": [
    "#############################################################\n",
    "# Data Visaulization\n",
    "#############################################################\n",
    "import matplotlib.pyplot as plt\n",
    "%matplotlib inline\n",
    "\n",
    "#################### To Do #################################\n",
    "# Hint: plt.imshow(data['data'][i].reshape(8,8), cmap=plt.cm.gray_r)\n",
    "for c in range(10):\n",
    "    i = 0\n",
    "    while(1):\n",
    "        if data['target'][i] == c :\n",
    "            plt.subplot(2, 5, c+1) # 2 row, 5 column으로 이루어진 subplot\n",
    "            plt.axis('off')\n",
    "            plt.imshow(data['data'][i].reshape(8,8), cmap=plt.cm.gray_r)\n",
    "            plt.title('Class %d:' % c)\n",
    "            break\n",
    "        i += 1\n",
    "############################################################"
   ]
  },
  {
   "cell_type": "code",
   "execution_count": 26,
   "metadata": {
    "id": "5aeX7JqhuTpD"
   },
   "outputs": [
    {
     "name": "stdout",
     "output_type": "stream",
     "text": [
      "(100, 64)\n",
      "(1697, 64)\n"
     ]
    }
   ],
   "source": [
    "#############################################################\n",
    "# 1st Preprocessing\n",
    "# Use the first 10 samples in each class as test data\n",
    "# Use the others as training data\n",
    "#############################################################\n",
    "\n",
    "#################### To Do #################################\n",
    "test_indexes, train_indexes = [], []\n",
    "num = [0] * 10\n",
    "for i in range(len(data['target'])):\n",
    "    if num[data['target'][i]] < 10: test_indexes.append(i)\n",
    "    else : train_indexes.append(i)\n",
    "    num[data['target'][i]] += 1\n",
    "\n",
    "test_data, test_target = data['data'][test_indexes], data['target'][test_indexes]\n",
    "train_data, train_target = data['data'][train_indexes], data['target'][train_indexes]\n",
    "############################################################\n",
    "\n",
    "print(test_data.shape)\n",
    "print(train_data.shape)"
   ]
  },
  {
   "cell_type": "code",
   "execution_count": 30,
   "metadata": {
    "id": "Ie567PVduTpD"
   },
   "outputs": [
    {
     "name": "stdout",
     "output_type": "stream",
     "text": [
      "(20, 64)\n",
      "(340, 64)\n"
     ]
    }
   ],
   "source": [
    "#############################################################\n",
    "# 2nd Preprocessing\n",
    "# Let's use only 2 and 3 for binary classification\n",
    "#############################################################\n",
    "\n",
    "#################### To Do #################################\n",
    "test_data23, test_target23 = test_data[(test_target == 2) ^ (test_target == 3)], test_target[(test_target == 2) ^ (test_target == 3)]\n",
    "train_data23, train_target23 = train_data[(train_target == 2) ^ (train_target == 3)], train_target[(train_target == 2) ^ (train_target == 3)]\n",
    "############################################################\n",
    "# ^ = or operation\n",
    "\n",
    "print(test_data23.shape)\n",
    "print(train_data23.shape)"
   ]
  },
  {
   "cell_type": "markdown",
   "metadata": {
    "id": "DOtAaDjbuTpD"
   },
   "source": [
    "## 2. Logistic regression & neural network models in scikit-learn\n",
    "\n",
    "For full documentations refer to the following links: <br>\n",
    "Logistic Regression: http://scikit-learn.org/stable/modules/generated/sklearn.linear_model.LogisticRegression.html <br>\n",
    "Neural network: http://scikit-learn.org/stable/modules/generated/sklearn.neural_network.MLPClassifier.html#sklearn.neural_network.MLPClassifier"
   ]
  },
  {
   "cell_type": "code",
   "execution_count": 31,
   "metadata": {
    "id": "6Ci9vgU5uTpE"
   },
   "outputs": [],
   "source": [
    "from sklearn.linear_model import LogisticRegression\n",
    "from sklearn.neural_network import MLPClassifier\n",
    "\n",
    "LR = LogisticRegression(max_iter=1000, solver='sag')\n",
    "NN = MLPClassifier(hidden_layer_sizes=(10), activation='relu', learning_rate_init=0.01, max_iter=1000)"
   ]
  },
  {
   "cell_type": "markdown",
   "metadata": {
    "id": "KmBMZFuKuTpE"
   },
   "source": [
    "## 3. Model training & prediction & evaluation"
   ]
  },
  {
   "cell_type": "code",
   "execution_count": 43,
   "metadata": {
    "id": "Etwr4biEuTpE"
   },
   "outputs": [
    {
     "name": "stdout",
     "output_type": "stream",
     "text": [
      "test_target     : [2 3 2 3 2 3 3 2 2 2 2 3 3 3 3 2 2 3 2 3]\n",
      "test_prediction : [2 3 2 3 2 3 3 2 2 2 2 3 3 3 3 2 2 3 2 3]\n",
      "train_acc : 0.9941176470588236\n",
      "test_acc  : 1.0\n"
     ]
    },
    {
     "name": "stderr",
     "output_type": "stream",
     "text": [
      "/Users/heetaecho/opt/anaconda3/lib/python3.8/site-packages/sklearn/linear_model/_sag.py:328: ConvergenceWarning: The max_iter was reached which means the coef_ did not converge\n",
      "  warnings.warn(\"The max_iter was reached which means \"\n"
     ]
    }
   ],
   "source": [
    "#############################################################\n",
    "# Logistic regression model\n",
    "#############################################################\n",
    "# Training\n",
    "LR = LogisticRegression(max_iter=1, solver='sag')\n",
    "LR.fit(train_data23, train_target23) # logistic regression model이 data에 맞춰 학습\n",
    "\n",
    "\n",
    "# Prediction\n",
    "train_predict23 = LR.predict(train_data23)\n",
    "test_predict23 = LR.predict(test_data23)\n",
    "print(\"test_target     :\", test_target23)\n",
    "print(\"test_prediction :\", test_predict23)\n",
    "\n",
    "#################### To Do #################################\n",
    "# Evaluation\n",
    "train_acc23 = np.sum(train_target23 == train_predict23) / len(train_target23)\n",
    "test_acc23 = np.sum(test_target23 == test_predict23) / len(test_target23)\n",
    "############################################################\n",
    "\n",
    "print(\"train_acc :\", train_acc23)\n",
    "print(\"test_acc  :\", test_acc23)"
   ]
  },
  {
   "cell_type": "code",
   "execution_count": 58,
   "metadata": {
    "id": "a6DMzuxRuTpF"
   },
   "outputs": [
    {
     "name": "stdout",
     "output_type": "stream",
     "text": [
      "test_target     : [2 3 2 3 2 3 3 2 2 2 2 3 3 3 3 2 2 3 2 3]\n",
      "test_prediction : [2 3 2 3 2 3 3 2 2 2 2 3 3 3 3 2 2 2 2 3]\n",
      "train_acc : 0.8264705882352941\n",
      "test_acc  : 0.95\n"
     ]
    },
    {
     "name": "stderr",
     "output_type": "stream",
     "text": [
      "/Users/heetaecho/opt/anaconda3/lib/python3.8/site-packages/sklearn/neural_network/_multilayer_perceptron.py:614: ConvergenceWarning: Stochastic Optimizer: Maximum iterations (1) reached and the optimization hasn't converged yet.\n",
      "  warnings.warn(\n"
     ]
    }
   ],
   "source": [
    "#############################################################\n",
    "# Neural network model\n",
    "#############################################################\n",
    "# https://machfam.com/16450\n",
    "#################### To Do #################################\n",
    "# Training\n",
    "NN = MLPClassifier(hidden_layer_sizes=(10), activation='relu', learning_rate_init=0.01, max_iter=1)\n",
    "NN.fit(train_data23, train_target23)\n",
    "\n",
    "# Prediction\n",
    "train_predict23 = NN.predict(train_data23)\n",
    "test_predict23 = NN.predict(test_data23)\n",
    "print(\"test_target     :\", test_target23)\n",
    "print(\"test_prediction :\", test_predict23)\n",
    "\n",
    "# Evaluation\n",
    "train_acc23 = np.sum(train_target23 == train_predict23) / len(train_target23)\n",
    "test_acc23= np.sum(test_target23 == test_predict23) / len(test_target23)\n",
    "print(\"train_acc :\", train_acc23)\n",
    "print(\"test_acc  :\", test_acc23)\n",
    "############################################################"
   ]
  },
  {
   "cell_type": "markdown",
   "metadata": {
    "id": "WCiuG6zruTpF"
   },
   "source": [
    "## 4. Model save & load"
   ]
  },
  {
   "cell_type": "code",
   "execution_count": 62,
   "metadata": {
    "id": "OGiSsaIKuTpF"
   },
   "outputs": [
    {
     "name": "stdout",
     "output_type": "stream",
     "text": [
      "test_target     : [2 3 2 3 2 3 3 2 2 2 2 3 3 3 3 2 2 3 2 3]\n",
      "test_prediction : [2 3 2 3 2 3 3 2 2 2 2 3 3 3 3 2 2 2 2 3]\n",
      "train_acc : 0.8264705882352941\n",
      "test_acc  : 0.95\n"
     ]
    }
   ],
   "source": [
    "# from sklearn.externals import joblib\n",
    "import joblib\n",
    "import os\n",
    "\n",
    "if not os.path.exists('models'):\n",
    "    os.makedirs('models')\n",
    "    \n",
    "# save\n",
    "joblib.dump(NN, 'models/NN23.joblib') \n",
    "#joblib.dump(LR, 'modesl/LR23.joblib')\n",
    "\n",
    "# load\n",
    "NN_load = joblib.load('models/NN23.joblib') \n",
    "#LR_load = joblib.load('modesl/LR23.joblib')\n",
    "\n",
    "#################### To Do #################################\n",
    "# Prediction\n",
    "train_predict23 = NN_load.predict(train_data23)\n",
    "test_predict23 = NN_load.predict(test_data23)\n",
    "print(\"test_target     :\", test_target23)\n",
    "print(\"test_prediction :\", test_predict23)\n",
    "\n",
    "# Evaluation\n",
    "train_acc23 = np.sum(train_target23 == train_predict23) / len(train_target23)\n",
    "test_acc23= np.sum(test_target23 == test_predict23) / len(test_target23)\n",
    "print(\"train_acc :\", train_acc23)\n",
    "print(\"test_acc  :\", test_acc23)\n",
    "############################################################"
   ]
  },
  {
   "cell_type": "markdown",
   "metadata": {
    "id": "RMb5E4hMuTpF"
   },
   "source": [
    "## 5. Homework\n",
    "Now it's your job to experiment with models and achieve higher accuracy on the  **<font color=red>on the entire dataset</font>**. <br>\n",
    "Try different hyperparameter configurations and save the final model as \"final_model.joblib\" <br>\n",
    "Submit the current **notebook file and the saved final model** on ETL.\n",
    "* Maximum 10 points for >= 97% accuracy on the test set\n",
    "* Maximum 8 points for >= 96% accuracy on the test set\n",
    "* Maximum 6 points for >= 95% accuracy on the test set\n",
    "* Maximum 4 points for >= 94% accuracy on the test set"
   ]
  },
  {
   "cell_type": "code",
   "execution_count": 326,
   "metadata": {
    "id": "0NA25EGYuTpG"
   },
   "outputs": [
    {
     "data": {
      "text/plain": [
       "['models/NN.joblib']"
      ]
     },
     "execution_count": 326,
     "metadata": {},
     "output_type": "execute_result"
    }
   ],
   "source": [
    "#############################################################\n",
    "# Try different hyperparameters\n",
    "# Final model training\n",
    "#############################################################\n",
    "\n",
    "from sklearn.neural_network import MLPClassifier\n",
    "\n",
    "#################### To Do #################################\n",
    "\n",
    "NN = MLPClassifier(hidden_layer_sizes=(200, 200, 200), activation='relu', learning_rate_init=0.001, max_iter=1500)\n",
    "NN.fit(train_data, train_target)\n",
    "\n",
    "# Save \n",
    "import joblib\n",
    "joblib.dump(NN, 'models/NN.joblib')\n",
    "\n",
    "############################################################"
   ]
  },
  {
   "cell_type": "code",
   "execution_count": 327,
   "metadata": {
    "id": "rQud1OhYuTpG"
   },
   "outputs": [
    {
     "name": "stdout",
     "output_type": "stream",
     "text": [
      "test_target     : [0 1 2 3 4 5 6 7 8 9 0 1 2 3 4 5 6 7 8 9 0 1 2 3 4 5 6 7 8 9 0 9 5 5 6 5 0\n",
      " 9 8 9 8 4 1 7 7 3 5 1 0 0 2 2 7 8 2 0 1 2 6 3 3 7 3 3 4 6 6 6 4 9 1 5 0 9\n",
      " 5 2 8 2 0 1 7 6 3 2 1 7 4 6 3 1 9 7 8 4 4 5 9 4 8 8]\n",
      "test_prediction : [0 1 2 3 4 9 6 7 8 9 0 1 2 3 4 5 6 7 8 9 0 1 2 3 4 5 6 7 8 9 0 9 5 5 6 5 0\n",
      " 5 8 9 8 4 1 7 7 3 5 1 0 0 2 2 7 8 2 0 1 2 6 3 3 7 3 3 4 6 6 6 4 9 1 5 0 9\n",
      " 5 2 8 2 0 1 7 6 3 2 1 7 4 6 3 1 9 7 8 4 4 5 9 4 8 8]\n",
      "train_acc : 1.0\n",
      "test_acc  : 0.98\n"
     ]
    }
   ],
   "source": [
    "#############################################################\n",
    "# Final model test\n",
    "# Load the final model and obatin the test accuracy\n",
    "#############################################################\n",
    "\n",
    "# Load \n",
    "NN_load = joblib.load('models/NN.joblib')\n",
    "\n",
    "#################### To Do #################################\n",
    "\n",
    "train_predict = NN_load.predict(train_data)\n",
    "test_predict = NN_load.predict(test_data)\n",
    "print(\"test_target     :\", test_target)\n",
    "print(\"test_prediction :\", test_predict)\n",
    "\n",
    "# Evaluation\n",
    "train_acc = np.sum(train_target == train_predict) / len(train_target)\n",
    "test_acc= np.sum(test_target == test_predict) / len(test_target)\n",
    "print(\"train_acc :\", train_acc)\n",
    "print(\"test_acc  :\", test_acc)\n",
    "############################################################"
   ]
  },
  {
   "cell_type": "markdown",
   "metadata": {
    "id": "H-8CmzNhuTpG"
   },
   "source": [
    "\n",
    "### Describe what you did here\n",
    "In this cell you should also write an explanation of what you did, any additional features that you implemented, and any visualizations or graphs that you make in the process of training and evaluating your model.\n",
    "* Maximum 10 points"
   ]
  },
  {
   "cell_type": "markdown",
   "metadata": {
    "id": "a0NbdXqzx47b"
   },
   "source": [
    "작성자 학번, 성함 (**반드시 작성해주세요**)\n",
    "\n",
    "학번: 2013-10432\n",
    "\n",
    "이름: 조희태"
   ]
  },
  {
   "cell_type": "markdown",
   "metadata": {
    "id": "6R7BMd5YuTpG"
   },
   "source": [
    "_Tell us here_\n",
    "\n",
    "(hidden_layer_sizes=(10, 10), activation='relu', learning_rate_init=0.01, max_iter=100)으로 시작해보았습니다. 하지만 이 정도의 값으로는 정확도가 0.9 이상으로 올라가질 않아 우선적으로 hidden layer size를 (20, 20), (30, 30) 등으로 차차 늘려가다가 실습 수업 시간에 '하나의 hidden layer에 뉴런을 많이 쌓는 것보다 여러 hidden layer에 뉴런을 조금씩 쌓는게 좋더라'는 말씀이 기억이 나 최종적으로 (200, 200, 200)으로 값을 고정시켰습니다. 이후 learning rate를 0.001로 줄여 한 epoch마다 줄어드는 step_size를 확 낮춘 후 iteration을 대신 1000 이상으로 늘렸더니 정확도가 0.94 이상으로 안정적으로 유지되었고 최종적으로 98%의 정확도를 도출하였습니다."
   ]
  }
 ],
 "metadata": {
  "colab": {
   "collapsed_sections": [
    "KubnO2egumeN",
    "6jCc3nd2uTpB",
    "DOtAaDjbuTpD",
    "KmBMZFuKuTpE",
    "WCiuG6zruTpF"
   ],
   "name": "Logistic_Regression_and_Neural_Network_with_Scikit-Learn_Distribution.ipynb",
   "provenance": []
  },
  "kernelspec": {
   "display_name": "Python 3",
   "language": "python",
   "name": "python3"
  },
  "language_info": {
   "codemirror_mode": {
    "name": "ipython",
    "version": 3
   },
   "file_extension": ".py",
   "mimetype": "text/x-python",
   "name": "python",
   "nbconvert_exporter": "python",
   "pygments_lexer": "ipython3",
   "version": "3.8.8"
  }
 },
 "nbformat": 4,
 "nbformat_minor": 1
}
